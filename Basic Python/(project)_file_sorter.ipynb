{
 "cells": [
  {
   "cell_type": "code",
   "execution_count": 20,
   "metadata": {},
   "outputs": [
    {
     "name": "stdout",
     "output_type": "stream",
     "text": [
      "moved Antonio Wellrend Movin_2702286803_CB Pancasila.pdf to pdf\n",
      "moved babbaabba.docx to word\n",
      "moved Bistat.xlsx to excel\n"
     ]
    }
   ],
   "source": [
    "# setting up tools\n",
    "import os\n",
    "import shutil\n",
    "\n",
    "# setting up source\n",
    "source = r\"C:\\Users\\ASUS\\Documents\\Skill Learning\\Data Analyst Path\\Python\\Jupyter\\training\\\\\"\n",
    "\n",
    "# define which to which\n",
    "file_type = {\n",
    "    \"word\" : \".docx\",\n",
    "    \"pdf\" : \".pdf\",\n",
    "    \"excel\" : \".xlsx\"\n",
    "    # folder : ext\n",
    "}\n",
    "\n",
    "# going through and scanning\n",
    "for file in os.listdir(source): # it listing all files and folder init\n",
    "\n",
    "    # file check and scaning for a match\n",
    "    for folder, ext in file_type.items():\n",
    "        if file.endswith(ext): # if file ends with word ext\n",
    "\n",
    "            # make sure the folder exist\n",
    "            folder_source = os.path.join(source, folder)\n",
    "            if not os.path.exists(folder_source):\n",
    "                os.makedirs(folder_source) # create one if not yet exist\n",
    "                \n",
    "                #moving the file to its place\n",
    "                shutil.move(\n",
    "                    os.path.join(source, file), # from dis loc\n",
    "                    os.path.join(folder_source, file) # to this loc\n",
    "                )\n",
    "\n",
    "                # let us know\n",
    "                print(f\"moved {file} to {folder}\")\n",
    "\n",
    "\n"
   ]
  }
 ],
 "metadata": {
  "kernelspec": {
   "display_name": "base",
   "language": "python",
   "name": "python3"
  },
  "language_info": {
   "codemirror_mode": {
    "name": "ipython",
    "version": 3
   },
   "file_extension": ".py",
   "mimetype": "text/x-python",
   "name": "python",
   "nbconvert_exporter": "python",
   "pygments_lexer": "ipython3",
   "version": "3.12.7"
  }
 },
 "nbformat": 4,
 "nbformat_minor": 2
}
