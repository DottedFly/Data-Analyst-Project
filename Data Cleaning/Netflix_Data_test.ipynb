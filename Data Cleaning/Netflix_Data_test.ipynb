{
 "cells": [
  {
   "cell_type": "markdown",
   "id": "6f8116d2",
   "metadata": {},
   "source": [
    "<h1> Cleaning Netflix Data </h1>"
   ]
  },
  {
   "cell_type": "markdown",
   "id": "ffecbd61",
   "metadata": {},
   "source": [
    "<h3> Importing libraries and data </h3>"
   ]
  },
  {
   "cell_type": "code",
   "execution_count": 1,
   "id": "af62b085",
   "metadata": {},
   "outputs": [],
   "source": [
    "import pandas as pd"
   ]
  },
  {
   "cell_type": "code",
   "execution_count": 2,
   "id": "3da97290",
   "metadata": {},
   "outputs": [
    {
     "data": {
      "application/vnd.microsoft.datawrangler.viewer.v0+json": {
       "columns": [
        {
         "name": "index",
         "rawType": "int64",
         "type": "integer"
        },
        {
         "name": "show_id",
         "rawType": "object",
         "type": "string"
        },
        {
         "name": "type",
         "rawType": "object",
         "type": "string"
        },
        {
         "name": "title",
         "rawType": "object",
         "type": "string"
        },
        {
         "name": "director",
         "rawType": "object",
         "type": "string"
        },
        {
         "name": "country",
         "rawType": "object",
         "type": "string"
        },
        {
         "name": "date_added",
         "rawType": "object",
         "type": "string"
        },
        {
         "name": "release_year",
         "rawType": "int64",
         "type": "integer"
        },
        {
         "name": "rating",
         "rawType": "object",
         "type": "string"
        },
        {
         "name": "duration",
         "rawType": "object",
         "type": "string"
        },
        {
         "name": "listed_in",
         "rawType": "object",
         "type": "string"
        }
       ],
       "ref": "f74d07cf-fc93-4a3c-bfda-b4dca748a06a",
       "rows": [
        [
         "0",
         "s1",
         "Movie",
         "Dick Johnson Is Dead",
         "Kirsten Johnson",
         "United States",
         "9/25/2021",
         "2020",
         "PG-13",
         "90 min",
         "Documentaries"
        ],
        [
         "1",
         "s3",
         "TV Show",
         "Ganglands",
         "Julien Leclercq",
         "France",
         "9/24/2021",
         "2021",
         "TV-MA",
         "1 Season",
         "Crime TV Shows, International TV Shows, TV Action & Adventure"
        ],
        [
         "2",
         "s6",
         "TV Show",
         "Midnight Mass",
         "Mike Flanagan",
         "United States",
         "9/24/2021",
         "2021",
         "TV-MA",
         "1 Season",
         "TV Dramas, TV Horror, TV Mysteries"
        ],
        [
         "3",
         "s14",
         "Movie",
         "Confessions of an Invisible Girl",
         "Bruno Garotti",
         "Brazil",
         "9/22/2021",
         "2021",
         "TV-PG",
         "91 min",
         "Children & Family Movies, Comedies"
        ],
        [
         "4",
         "s8",
         "Movie",
         "Sankofa",
         "Haile Gerima",
         "United States",
         "9/24/2021",
         "1993",
         "TV-MA",
         "125 min",
         "Dramas, Independent Movies, International Movies"
        ],
        [
         "5",
         "s9",
         "TV Show",
         "The Great British Baking Show",
         "Andy Devonshire",
         "United Kingdom",
         "9/24/2021",
         "2021",
         "TV-14",
         "9 Seasons",
         "British TV Shows, Reality TV"
        ],
        [
         "6",
         "s10",
         "Movie",
         "The Starling",
         "Theodore Melfi",
         "United States",
         "9/24/2021",
         "2021",
         "PG-13",
         "104 min",
         "Comedies, Dramas"
        ],
        [
         "7",
         "s939",
         "Movie",
         "Motu Patlu in the Game of Zones",
         "Suhas Kadav",
         "India",
         "5/1/2021",
         "2019",
         "TV-Y7",
         "87 min",
         "Children & Family Movies, Comedies, Music & Musicals"
        ],
        [
         "8",
         "s13",
         "Movie",
         "Je Suis Karl",
         "Christian Schwochow",
         "Germany",
         "9/23/2021",
         "2021",
         "TV-MA",
         "127 min",
         "Dramas, International Movies"
        ],
        [
         "9",
         "s940",
         "Movie",
         "Motu Patlu in Wonderland",
         "Suhas Kadav",
         "India",
         "5/1/2021",
         "2013",
         "TV-Y7",
         "76 min",
         "Children & Family Movies, Music & Musicals"
        ],
        [
         "10",
         "s941",
         "Movie",
         "Motu Patlu: Deep Sea Adventure",
         "Suhas Kadav",
         "India",
         "5/1/2021",
         "2014",
         "TV-Y7",
         "76 min",
         "Children & Family Movies, Comedies"
        ],
        [
         "11",
         "s942",
         "Movie",
         "Motu Patlu: Mission Moon",
         "Suhas Kadav",
         "India",
         "5/1/2021",
         "2013",
         "TV-Y7",
         "71 min",
         "Children & Family Movies, Comedies"
        ],
        [
         "12",
         "s852",
         "Movie",
         "99 Songs (Tamil)",
         "Not Given",
         "Pakistan",
         "5/21/2021",
         "2021",
         "TV-14",
         "131 min",
         "Dramas, International Movies, Music & Musicals"
        ],
        [
         "13",
         "s471",
         "Movie",
         "Bridgerton - The Afterparty",
         "Krysia Plonka, Kristian Mercado",
         "United States",
         "7/13/2021",
         "2021",
         "TV-14",
         "39 min",
         "Movies"
        ],
        [
         "14",
         "s730",
         "Movie",
         "Bling Empire - The Afterparty",
         "Krysia Plonka, Kristian Mercado",
         "United States",
         "6/12/2021",
         "2021",
         "TV-MA",
         "36 min",
         "Movies"
        ],
        [
         "15",
         "s731",
         "Movie",
         "Cobra Kai - The Afterparty",
         "Krysia Plonka, Kristian Mercado",
         "United States",
         "6/12/2021",
         "2021",
         "TV-MA",
         "34 min",
         "Movies"
        ],
        [
         "16",
         "s913",
         "Movie",
         "The Circle - The Afterparty",
         "Krysia Plonka, Kristian Mercado",
         "United States",
         "5/7/2021",
         "2021",
         "TV-14",
         "35 min",
         "Comedies"
        ],
        [
         "17",
         "s4",
         "TV Show",
         "Jailbirds New Orleans",
         "Not Given",
         "Pakistan",
         "9/24/2021",
         "2021",
         "TV-MA",
         "1 Season",
         "Docuseries, Reality TV"
        ],
        [
         "18",
         "s15",
         "TV Show",
         "Crime Stories: India Detectives",
         "Not Given",
         "Pakistan",
         "9/22/2021",
         "2021",
         "TV-MA",
         "1 Season",
         "British TV Shows, Crime TV Shows, Docuseries"
        ],
        [
         "19",
         "s3232",
         "Movie",
         "True: Winter Wishes",
         "Mark Thornton, Todd Kauffman",
         "United States",
         "11/26/2019",
         "2019",
         "TV-Y",
         "46 min",
         "Children & Family Movies"
        ],
        [
         "20",
         "s4832",
         "TV Show",
         "True: Magical Friends",
         "Mark Thornton, Todd Kauffman",
         "United States",
         "6/15/2018",
         "2018",
         "TV-Y",
         "1 Season",
         "Kids' TV"
        ],
        [
         "21",
         "s4833",
         "TV Show",
         "True: Wonderful Wishes",
         "Mark Thornton, Todd Kauffman",
         "United States",
         "6/15/2018",
         "2018",
         "TV-Y",
         "1 Season",
         "Kids' TV"
        ],
        [
         "22",
         "s4857",
         "TV Show",
         "Dance & Sing with True",
         "Mark Thornton, Todd Kauffman",
         "United States",
         "5/18/2018",
         "2018",
         "TV-Y",
         "1 Season",
         "Kids' TV"
        ],
        [
         "23",
         "s7",
         "Movie",
         "My Little Pony: A New Generation",
         "Robert Cullen, José Luis Ucha",
         "Not Given",
         "9/24/2021",
         "2021",
         "PG",
         "91 min",
         "Children & Family Movies"
        ],
        [
         "24",
         "s12",
         "TV Show",
         "Bangkok Breaking",
         "Kongkiat Komesiri",
         "Not Given",
         "9/23/2021",
         "2021",
         "TV-MA",
         "1 Season",
         "Crime TV Shows, International TV Shows, TV Action & Adventure"
        ],
        [
         "25",
         "s17",
         "Movie",
         "Europe's Most Dangerous Man: Otto Skorzeny in Spain",
         "Pedro de Echave García, Pablo Azorín Williams",
         "Not Given",
         "9/22/2021",
         "2020",
         "TV-MA",
         "67 min",
         "Documentaries, International Movies"
        ],
        [
         "26",
         "s7930",
         "Movie",
         "Samudri Lootere",
         "Anirban Majumder",
         "Not Given",
         "6/18/2019",
         "2018",
         "TV-Y",
         "65 min",
         "Children & Family Movies"
        ],
        [
         "27",
         "s21",
         "TV Show",
         "Monsters Inside: The 24 Faces of Billy Milligan",
         "Olivier Megaton",
         "United States",
         "9/22/2021",
         "2021",
         "TV-14",
         "1 Season",
         "Crime TV Shows, Docuseries, International TV Shows"
        ],
        [
         "28",
         "s24",
         "Movie",
         "Go! Go! Cory Carson: Chrissy Takes the Wheel",
         "Alex Woo, Stanley Moore",
         "United States",
         "9/21/2021",
         "2021",
         "TV-Y",
         "61 min",
         "Children & Family Movies"
        ],
        [
         "29",
         "s25",
         "Movie",
         "Jeans",
         "S. Shankar",
         "India",
         "9/21/2021",
         "1998",
         "TV-14",
         "166 min",
         "Comedies, International Movies, Romantic Movies"
        ],
        [
         "30",
         "s28",
         "Movie",
         "Grown Ups",
         "Dennis Dugan",
         "United States",
         "9/20/2021",
         "2010",
         "PG-13",
         "103 min",
         "Comedies"
        ],
        [
         "31",
         "s29",
         "Movie",
         "Dark Skies",
         "Scott Stewart",
         "United States",
         "9/19/2021",
         "2013",
         "PG-13",
         "97 min",
         "Horror Movies, Sci-Fi & Fantasy"
        ],
        [
         "32",
         "s30",
         "Movie",
         "Paranoia",
         "Robert Luketic",
         "United States",
         "9/19/2021",
         "2013",
         "PG-13",
         "106 min",
         "Thrillers"
        ],
        [
         "33",
         "s20",
         "TV Show",
         "Jaguar",
         "Not Given",
         "Pakistan",
         "9/22/2021",
         "2021",
         "TV-MA",
         "1 Season",
         "International TV Shows, Spanish-Language TV Shows, TV Action & Adventure"
        ],
        [
         "34",
         "s32",
         "TV Show",
         "Chicago Party Aunt",
         "Not Given",
         "Pakistan",
         "9/17/2021",
         "2021",
         "TV-MA",
         "1 Season",
         "TV Comedies"
        ],
        [
         "35",
         "s34",
         "TV Show",
         "Squid Game",
         "Not Given",
         "Pakistan",
         "9/17/2021",
         "2021",
         "TV-MA",
         "1 Season",
         "International TV Shows, TV Dramas, TV Thrillers"
        ],
        [
         "36",
         "s35",
         "TV Show",
         "Tayo and Little Wizards",
         "Not Given",
         "Pakistan",
         "9/17/2021",
         "2020",
         "TV-Y7",
         "1 Season",
         "Kids' TV"
        ],
        [
         "37",
         "s75",
         "TV Show",
         "The World's Most Amazing Vacation Rentals",
         "Not Given",
         "Pakistan",
         "9/14/2021",
         "2021",
         "TV-PG",
         "2 Seasons",
         "Reality TV"
        ],
        [
         "38",
         "s84",
         "TV Show",
         "Metal Shop Masters",
         "Not Given",
         "Pakistan",
         "9/10/2021",
         "2021",
         "TV-MA",
         "1 Season",
         "Reality TV"
        ],
        [
         "39",
         "s86",
         "TV Show",
         "Pokémon Master Journeys: The Series",
         "Not Given",
         "Pakistan",
         "9/10/2021",
         "2021",
         "TV-Y7",
         "1 Season",
         "Anime Series, Kids' TV"
        ],
        [
         "40",
         "s88",
         "TV Show",
         "Titipo Titipo",
         "Not Given",
         "Pakistan",
         "9/10/2021",
         "2019",
         "TV-Y",
         "2 Seasons",
         "Kids' TV, Korean TV Shows"
        ],
        [
         "41",
         "s90",
         "TV Show",
         "Mighty Raju",
         "Not Given",
         "Pakistan",
         "9/9/2021",
         "2017",
         "TV-Y7",
         "4 Seasons",
         "Kids' TV"
        ],
        [
         "42",
         "s101",
         "TV Show",
         "Tobot Galaxy Detectives",
         "Not Given",
         "Pakistan",
         "9/7/2021",
         "2019",
         "TV-Y7",
         "2 Seasons",
         "Kids' TV"
        ],
        [
         "43",
         "s122",
         "TV Show",
         "Hotel Del Luna",
         "Not Given",
         "Pakistan",
         "9/2/2021",
         "2019",
         "TV-14",
         "1 Season",
         "International TV Shows, Romantic TV Shows, TV Comedies"
        ],
        [
         "44",
         "s133",
         "TV Show",
         "Brave Animated Series",
         "Not Given",
         "Pakistan",
         "9/1/2021",
         "2021",
         "TV-MA",
         "1 Season",
         "International TV Shows, TV Action & Adventure, TV Comedies"
        ],
        [
         "45",
         "s148",
         "TV Show",
         "How to Be a Cowboy",
         "Not Given",
         "Pakistan",
         "9/1/2021",
         "2021",
         "TV-PG",
         "1 Season",
         "Reality TV"
        ],
        [
         "46",
         "s166",
         "TV Show",
         "Oldsters",
         "Not Given",
         "Pakistan",
         "9/1/2021",
         "2019",
         "TV-MA",
         "1 Season",
         "Crime TV Shows, International TV Shows, Spanish-Language TV Shows"
        ],
        [
         "47",
         "s190",
         "TV Show",
         "Bread Barbershop",
         "Not Given",
         "Pakistan",
         "8/28/2021",
         "2020",
         "TV-Y",
         "2 Seasons",
         "Kids' TV, TV Comedies"
        ],
        [
         "48",
         "s182",
         "TV Show",
         "Turning Point: 9/11 and the War on Terror",
         "Not Given",
         "Pakistan",
         "9/1/2021",
         "2021",
         "TV-14",
         "1 Season",
         "Docuseries"
        ],
        [
         "49",
         "s187",
         "TV Show",
         "Hometown Cha-Cha-Cha",
         "Not Given",
         "Pakistan",
         "8/29/2021",
         "2021",
         "TV-14",
         "1 Season",
         "International TV Shows, Romantic TV Shows, TV Comedies"
        ]
       ],
       "shape": {
        "columns": 10,
        "rows": 8790
       }
      },
      "text/html": [
       "<div>\n",
       "<style scoped>\n",
       "    .dataframe tbody tr th:only-of-type {\n",
       "        vertical-align: middle;\n",
       "    }\n",
       "\n",
       "    .dataframe tbody tr th {\n",
       "        vertical-align: top;\n",
       "    }\n",
       "\n",
       "    .dataframe thead th {\n",
       "        text-align: right;\n",
       "    }\n",
       "</style>\n",
       "<table border=\"1\" class=\"dataframe\">\n",
       "  <thead>\n",
       "    <tr style=\"text-align: right;\">\n",
       "      <th></th>\n",
       "      <th>show_id</th>\n",
       "      <th>type</th>\n",
       "      <th>title</th>\n",
       "      <th>director</th>\n",
       "      <th>country</th>\n",
       "      <th>date_added</th>\n",
       "      <th>release_year</th>\n",
       "      <th>rating</th>\n",
       "      <th>duration</th>\n",
       "      <th>listed_in</th>\n",
       "    </tr>\n",
       "  </thead>\n",
       "  <tbody>\n",
       "    <tr>\n",
       "      <th>0</th>\n",
       "      <td>s1</td>\n",
       "      <td>Movie</td>\n",
       "      <td>Dick Johnson Is Dead</td>\n",
       "      <td>Kirsten Johnson</td>\n",
       "      <td>United States</td>\n",
       "      <td>9/25/2021</td>\n",
       "      <td>2020</td>\n",
       "      <td>PG-13</td>\n",
       "      <td>90 min</td>\n",
       "      <td>Documentaries</td>\n",
       "    </tr>\n",
       "    <tr>\n",
       "      <th>1</th>\n",
       "      <td>s3</td>\n",
       "      <td>TV Show</td>\n",
       "      <td>Ganglands</td>\n",
       "      <td>Julien Leclercq</td>\n",
       "      <td>France</td>\n",
       "      <td>9/24/2021</td>\n",
       "      <td>2021</td>\n",
       "      <td>TV-MA</td>\n",
       "      <td>1 Season</td>\n",
       "      <td>Crime TV Shows, International TV Shows, TV Act...</td>\n",
       "    </tr>\n",
       "    <tr>\n",
       "      <th>2</th>\n",
       "      <td>s6</td>\n",
       "      <td>TV Show</td>\n",
       "      <td>Midnight Mass</td>\n",
       "      <td>Mike Flanagan</td>\n",
       "      <td>United States</td>\n",
       "      <td>9/24/2021</td>\n",
       "      <td>2021</td>\n",
       "      <td>TV-MA</td>\n",
       "      <td>1 Season</td>\n",
       "      <td>TV Dramas, TV Horror, TV Mysteries</td>\n",
       "    </tr>\n",
       "    <tr>\n",
       "      <th>3</th>\n",
       "      <td>s14</td>\n",
       "      <td>Movie</td>\n",
       "      <td>Confessions of an Invisible Girl</td>\n",
       "      <td>Bruno Garotti</td>\n",
       "      <td>Brazil</td>\n",
       "      <td>9/22/2021</td>\n",
       "      <td>2021</td>\n",
       "      <td>TV-PG</td>\n",
       "      <td>91 min</td>\n",
       "      <td>Children &amp; Family Movies, Comedies</td>\n",
       "    </tr>\n",
       "    <tr>\n",
       "      <th>4</th>\n",
       "      <td>s8</td>\n",
       "      <td>Movie</td>\n",
       "      <td>Sankofa</td>\n",
       "      <td>Haile Gerima</td>\n",
       "      <td>United States</td>\n",
       "      <td>9/24/2021</td>\n",
       "      <td>1993</td>\n",
       "      <td>TV-MA</td>\n",
       "      <td>125 min</td>\n",
       "      <td>Dramas, Independent Movies, International Movies</td>\n",
       "    </tr>\n",
       "    <tr>\n",
       "      <th>...</th>\n",
       "      <td>...</td>\n",
       "      <td>...</td>\n",
       "      <td>...</td>\n",
       "      <td>...</td>\n",
       "      <td>...</td>\n",
       "      <td>...</td>\n",
       "      <td>...</td>\n",
       "      <td>...</td>\n",
       "      <td>...</td>\n",
       "      <td>...</td>\n",
       "    </tr>\n",
       "    <tr>\n",
       "      <th>8785</th>\n",
       "      <td>s8797</td>\n",
       "      <td>TV Show</td>\n",
       "      <td>Yunus Emre</td>\n",
       "      <td>Not Given</td>\n",
       "      <td>Turkey</td>\n",
       "      <td>1/17/2017</td>\n",
       "      <td>2016</td>\n",
       "      <td>TV-PG</td>\n",
       "      <td>2 Seasons</td>\n",
       "      <td>International TV Shows, TV Dramas</td>\n",
       "    </tr>\n",
       "    <tr>\n",
       "      <th>8786</th>\n",
       "      <td>s8798</td>\n",
       "      <td>TV Show</td>\n",
       "      <td>Zak Storm</td>\n",
       "      <td>Not Given</td>\n",
       "      <td>United States</td>\n",
       "      <td>9/13/2018</td>\n",
       "      <td>2016</td>\n",
       "      <td>TV-Y7</td>\n",
       "      <td>3 Seasons</td>\n",
       "      <td>Kids' TV</td>\n",
       "    </tr>\n",
       "    <tr>\n",
       "      <th>8787</th>\n",
       "      <td>s8801</td>\n",
       "      <td>TV Show</td>\n",
       "      <td>Zindagi Gulzar Hai</td>\n",
       "      <td>Not Given</td>\n",
       "      <td>Pakistan</td>\n",
       "      <td>12/15/2016</td>\n",
       "      <td>2012</td>\n",
       "      <td>TV-PG</td>\n",
       "      <td>1 Season</td>\n",
       "      <td>International TV Shows, Romantic TV Shows, TV ...</td>\n",
       "    </tr>\n",
       "    <tr>\n",
       "      <th>8788</th>\n",
       "      <td>s8784</td>\n",
       "      <td>TV Show</td>\n",
       "      <td>Yoko</td>\n",
       "      <td>Not Given</td>\n",
       "      <td>Pakistan</td>\n",
       "      <td>6/23/2018</td>\n",
       "      <td>2016</td>\n",
       "      <td>TV-Y</td>\n",
       "      <td>1 Season</td>\n",
       "      <td>Kids' TV</td>\n",
       "    </tr>\n",
       "    <tr>\n",
       "      <th>8789</th>\n",
       "      <td>s8786</td>\n",
       "      <td>TV Show</td>\n",
       "      <td>YOM</td>\n",
       "      <td>Not Given</td>\n",
       "      <td>Pakistan</td>\n",
       "      <td>6/7/2018</td>\n",
       "      <td>2016</td>\n",
       "      <td>TV-Y7</td>\n",
       "      <td>1 Season</td>\n",
       "      <td>Kids' TV</td>\n",
       "    </tr>\n",
       "  </tbody>\n",
       "</table>\n",
       "<p>8790 rows × 10 columns</p>\n",
       "</div>"
      ],
      "text/plain": [
       "     show_id     type                             title         director  \\\n",
       "0         s1    Movie              Dick Johnson Is Dead  Kirsten Johnson   \n",
       "1         s3  TV Show                         Ganglands  Julien Leclercq   \n",
       "2         s6  TV Show                     Midnight Mass    Mike Flanagan   \n",
       "3        s14    Movie  Confessions of an Invisible Girl    Bruno Garotti   \n",
       "4         s8    Movie                           Sankofa     Haile Gerima   \n",
       "...      ...      ...                               ...              ...   \n",
       "8785   s8797  TV Show                        Yunus Emre        Not Given   \n",
       "8786   s8798  TV Show                         Zak Storm        Not Given   \n",
       "8787   s8801  TV Show                Zindagi Gulzar Hai        Not Given   \n",
       "8788   s8784  TV Show                              Yoko        Not Given   \n",
       "8789   s8786  TV Show                               YOM        Not Given   \n",
       "\n",
       "            country  date_added  release_year rating   duration  \\\n",
       "0     United States   9/25/2021          2020  PG-13     90 min   \n",
       "1            France   9/24/2021          2021  TV-MA   1 Season   \n",
       "2     United States   9/24/2021          2021  TV-MA   1 Season   \n",
       "3            Brazil   9/22/2021          2021  TV-PG     91 min   \n",
       "4     United States   9/24/2021          1993  TV-MA    125 min   \n",
       "...             ...         ...           ...    ...        ...   \n",
       "8785         Turkey   1/17/2017          2016  TV-PG  2 Seasons   \n",
       "8786  United States   9/13/2018          2016  TV-Y7  3 Seasons   \n",
       "8787       Pakistan  12/15/2016          2012  TV-PG   1 Season   \n",
       "8788       Pakistan   6/23/2018          2016   TV-Y   1 Season   \n",
       "8789       Pakistan    6/7/2018          2016  TV-Y7   1 Season   \n",
       "\n",
       "                                              listed_in  \n",
       "0                                         Documentaries  \n",
       "1     Crime TV Shows, International TV Shows, TV Act...  \n",
       "2                    TV Dramas, TV Horror, TV Mysteries  \n",
       "3                    Children & Family Movies, Comedies  \n",
       "4      Dramas, Independent Movies, International Movies  \n",
       "...                                                 ...  \n",
       "8785                  International TV Shows, TV Dramas  \n",
       "8786                                           Kids' TV  \n",
       "8787  International TV Shows, Romantic TV Shows, TV ...  \n",
       "8788                                           Kids' TV  \n",
       "8789                                           Kids' TV  \n",
       "\n",
       "[8790 rows x 10 columns]"
      ]
     },
     "execution_count": 2,
     "metadata": {},
     "output_type": "execute_result"
    }
   ],
   "source": [
    "data = pd.read_csv(r\"C:\\Users\\ASUS\\Documents\\Skill Learning\\Data Analyst Path\\Data Source\\Data Science with onur\\netflix1.csv\\netflix1.csv\")\n",
    "\n",
    "data"
   ]
  },
  {
   "cell_type": "markdown",
   "id": "47549638",
   "metadata": {},
   "source": [
    "<h3> Quick Look </h3>"
   ]
  },
  {
   "cell_type": "markdown",
   "id": "bee087d3",
   "metadata": {},
   "source": [
    "1. Reducing columns?\n",
    "2. duplicates?\n",
    "3. missing values?\n",
    "4. any formating issues?\n",
    "5. data types?"
   ]
  },
  {
   "cell_type": "code",
   "execution_count": 3,
   "id": "a98f969c",
   "metadata": {},
   "outputs": [
    {
     "name": "stdout",
     "output_type": "stream",
     "text": [
      "<class 'pandas.core.frame.DataFrame'>\n",
      "RangeIndex: 8790 entries, 0 to 8789\n",
      "Data columns (total 10 columns):\n",
      " #   Column        Non-Null Count  Dtype \n",
      "---  ------        --------------  ----- \n",
      " 0   show_id       8790 non-null   object\n",
      " 1   type          8790 non-null   object\n",
      " 2   title         8790 non-null   object\n",
      " 3   director      8790 non-null   object\n",
      " 4   country       8790 non-null   object\n",
      " 5   date_added    8790 non-null   object\n",
      " 6   release_year  8790 non-null   int64 \n",
      " 7   rating        8790 non-null   object\n",
      " 8   duration      8790 non-null   object\n",
      " 9   listed_in     8790 non-null   object\n",
      "dtypes: int64(1), object(9)\n",
      "memory usage: 686.8+ KB\n"
     ]
    }
   ],
   "source": [
    "data.info()"
   ]
  },
  {
   "cell_type": "code",
   "execution_count": 4,
   "id": "7ed540dd",
   "metadata": {},
   "outputs": [
    {
     "data": {
      "text/plain": [
       "0"
      ]
     },
     "execution_count": 4,
     "metadata": {},
     "output_type": "execute_result"
    }
   ],
   "source": [
    "data.duplicated().sum()"
   ]
  },
  {
   "cell_type": "code",
   "execution_count": 5,
   "id": "d3823355",
   "metadata": {},
   "outputs": [
    {
     "data": {
      "application/vnd.microsoft.datawrangler.viewer.v0+json": {
       "columns": [
        {
         "name": "index",
         "rawType": "object",
         "type": "string"
        },
        {
         "name": "0",
         "rawType": "int64",
         "type": "integer"
        }
       ],
       "ref": "075ea7b4-6edf-4cf7-a8d0-8967e00106e1",
       "rows": [
        [
         "show_id",
         "0"
        ],
        [
         "type",
         "0"
        ],
        [
         "title",
         "0"
        ],
        [
         "director",
         "0"
        ],
        [
         "country",
         "0"
        ],
        [
         "date_added",
         "0"
        ],
        [
         "release_year",
         "0"
        ],
        [
         "rating",
         "0"
        ],
        [
         "duration",
         "0"
        ],
        [
         "listed_in",
         "0"
        ]
       ],
       "shape": {
        "columns": 1,
        "rows": 10
       }
      },
      "text/plain": [
       "show_id         0\n",
       "type            0\n",
       "title           0\n",
       "director        0\n",
       "country         0\n",
       "date_added      0\n",
       "release_year    0\n",
       "rating          0\n",
       "duration        0\n",
       "listed_in       0\n",
       "dtype: int64"
      ]
     },
     "execution_count": 5,
     "metadata": {},
     "output_type": "execute_result"
    }
   ],
   "source": [
    "data.isnull().sum()"
   ]
  },
  {
   "cell_type": "markdown",
   "id": "23bc2b53",
   "metadata": {},
   "source": [
    "<h3> Reducing unnecessary columns </h3>"
   ]
  },
  {
   "cell_type": "code",
   "execution_count": 7,
   "id": "739675de",
   "metadata": {},
   "outputs": [
    {
     "data": {
      "application/vnd.microsoft.datawrangler.viewer.v0+json": {
       "columns": [
        {
         "name": "index",
         "rawType": "int64",
         "type": "integer"
        },
        {
         "name": "show_id",
         "rawType": "object",
         "type": "string"
        },
        {
         "name": "type",
         "rawType": "object",
         "type": "string"
        },
        {
         "name": "title",
         "rawType": "object",
         "type": "string"
        },
        {
         "name": "director",
         "rawType": "object",
         "type": "string"
        },
        {
         "name": "country",
         "rawType": "object",
         "type": "string"
        },
        {
         "name": "date_added",
         "rawType": "object",
         "type": "string"
        },
        {
         "name": "release_year",
         "rawType": "int64",
         "type": "integer"
        },
        {
         "name": "rating",
         "rawType": "object",
         "type": "string"
        },
        {
         "name": "duration",
         "rawType": "object",
         "type": "string"
        },
        {
         "name": "listed_in",
         "rawType": "object",
         "type": "string"
        }
       ],
       "ref": "2c4330cf-1bf9-4dc0-9432-41a5ac27640a",
       "rows": [
        [
         "0",
         "s1",
         "Movie",
         "Dick Johnson Is Dead",
         "Kirsten Johnson",
         "United States",
         "9/25/2021",
         "2020",
         "PG-13",
         "90 min",
         "Documentaries"
        ],
        [
         "1",
         "s3",
         "TV Show",
         "Ganglands",
         "Julien Leclercq",
         "France",
         "9/24/2021",
         "2021",
         "TV-MA",
         "1 Season",
         "Crime TV Shows, International TV Shows, TV Action & Adventure"
        ],
        [
         "2",
         "s6",
         "TV Show",
         "Midnight Mass",
         "Mike Flanagan",
         "United States",
         "9/24/2021",
         "2021",
         "TV-MA",
         "1 Season",
         "TV Dramas, TV Horror, TV Mysteries"
        ],
        [
         "3",
         "s14",
         "Movie",
         "Confessions of an Invisible Girl",
         "Bruno Garotti",
         "Brazil",
         "9/22/2021",
         "2021",
         "TV-PG",
         "91 min",
         "Children & Family Movies, Comedies"
        ],
        [
         "4",
         "s8",
         "Movie",
         "Sankofa",
         "Haile Gerima",
         "United States",
         "9/24/2021",
         "1993",
         "TV-MA",
         "125 min",
         "Dramas, Independent Movies, International Movies"
        ],
        [
         "5",
         "s9",
         "TV Show",
         "The Great British Baking Show",
         "Andy Devonshire",
         "United Kingdom",
         "9/24/2021",
         "2021",
         "TV-14",
         "9 Seasons",
         "British TV Shows, Reality TV"
        ],
        [
         "6",
         "s10",
         "Movie",
         "The Starling",
         "Theodore Melfi",
         "United States",
         "9/24/2021",
         "2021",
         "PG-13",
         "104 min",
         "Comedies, Dramas"
        ],
        [
         "7",
         "s939",
         "Movie",
         "Motu Patlu in the Game of Zones",
         "Suhas Kadav",
         "India",
         "5/1/2021",
         "2019",
         "TV-Y7",
         "87 min",
         "Children & Family Movies, Comedies, Music & Musicals"
        ],
        [
         "8",
         "s13",
         "Movie",
         "Je Suis Karl",
         "Christian Schwochow",
         "Germany",
         "9/23/2021",
         "2021",
         "TV-MA",
         "127 min",
         "Dramas, International Movies"
        ],
        [
         "9",
         "s940",
         "Movie",
         "Motu Patlu in Wonderland",
         "Suhas Kadav",
         "India",
         "5/1/2021",
         "2013",
         "TV-Y7",
         "76 min",
         "Children & Family Movies, Music & Musicals"
        ],
        [
         "10",
         "s941",
         "Movie",
         "Motu Patlu: Deep Sea Adventure",
         "Suhas Kadav",
         "India",
         "5/1/2021",
         "2014",
         "TV-Y7",
         "76 min",
         "Children & Family Movies, Comedies"
        ],
        [
         "11",
         "s942",
         "Movie",
         "Motu Patlu: Mission Moon",
         "Suhas Kadav",
         "India",
         "5/1/2021",
         "2013",
         "TV-Y7",
         "71 min",
         "Children & Family Movies, Comedies"
        ],
        [
         "12",
         "s852",
         "Movie",
         "99 Songs (Tamil)",
         "Not Given",
         "Pakistan",
         "5/21/2021",
         "2021",
         "TV-14",
         "131 min",
         "Dramas, International Movies, Music & Musicals"
        ],
        [
         "13",
         "s471",
         "Movie",
         "Bridgerton - The Afterparty",
         "Krysia Plonka, Kristian Mercado",
         "United States",
         "7/13/2021",
         "2021",
         "TV-14",
         "39 min",
         "Movies"
        ],
        [
         "14",
         "s730",
         "Movie",
         "Bling Empire - The Afterparty",
         "Krysia Plonka, Kristian Mercado",
         "United States",
         "6/12/2021",
         "2021",
         "TV-MA",
         "36 min",
         "Movies"
        ],
        [
         "15",
         "s731",
         "Movie",
         "Cobra Kai - The Afterparty",
         "Krysia Plonka, Kristian Mercado",
         "United States",
         "6/12/2021",
         "2021",
         "TV-MA",
         "34 min",
         "Movies"
        ],
        [
         "16",
         "s913",
         "Movie",
         "The Circle - The Afterparty",
         "Krysia Plonka, Kristian Mercado",
         "United States",
         "5/7/2021",
         "2021",
         "TV-14",
         "35 min",
         "Comedies"
        ],
        [
         "17",
         "s4",
         "TV Show",
         "Jailbirds New Orleans",
         "Not Given",
         "Pakistan",
         "9/24/2021",
         "2021",
         "TV-MA",
         "1 Season",
         "Docuseries, Reality TV"
        ],
        [
         "18",
         "s15",
         "TV Show",
         "Crime Stories: India Detectives",
         "Not Given",
         "Pakistan",
         "9/22/2021",
         "2021",
         "TV-MA",
         "1 Season",
         "British TV Shows, Crime TV Shows, Docuseries"
        ],
        [
         "19",
         "s3232",
         "Movie",
         "True: Winter Wishes",
         "Mark Thornton, Todd Kauffman",
         "United States",
         "11/26/2019",
         "2019",
         "TV-Y",
         "46 min",
         "Children & Family Movies"
        ],
        [
         "20",
         "s4832",
         "TV Show",
         "True: Magical Friends",
         "Mark Thornton, Todd Kauffman",
         "United States",
         "6/15/2018",
         "2018",
         "TV-Y",
         "1 Season",
         "Kids' TV"
        ],
        [
         "21",
         "s4833",
         "TV Show",
         "True: Wonderful Wishes",
         "Mark Thornton, Todd Kauffman",
         "United States",
         "6/15/2018",
         "2018",
         "TV-Y",
         "1 Season",
         "Kids' TV"
        ],
        [
         "22",
         "s4857",
         "TV Show",
         "Dance & Sing with True",
         "Mark Thornton, Todd Kauffman",
         "United States",
         "5/18/2018",
         "2018",
         "TV-Y",
         "1 Season",
         "Kids' TV"
        ],
        [
         "23",
         "s7",
         "Movie",
         "My Little Pony: A New Generation",
         "Robert Cullen, José Luis Ucha",
         "Not Given",
         "9/24/2021",
         "2021",
         "PG",
         "91 min",
         "Children & Family Movies"
        ],
        [
         "24",
         "s12",
         "TV Show",
         "Bangkok Breaking",
         "Kongkiat Komesiri",
         "Not Given",
         "9/23/2021",
         "2021",
         "TV-MA",
         "1 Season",
         "Crime TV Shows, International TV Shows, TV Action & Adventure"
        ],
        [
         "25",
         "s17",
         "Movie",
         "Europe's Most Dangerous Man: Otto Skorzeny in Spain",
         "Pedro de Echave García, Pablo Azorín Williams",
         "Not Given",
         "9/22/2021",
         "2020",
         "TV-MA",
         "67 min",
         "Documentaries, International Movies"
        ],
        [
         "26",
         "s7930",
         "Movie",
         "Samudri Lootere",
         "Anirban Majumder",
         "Not Given",
         "6/18/2019",
         "2018",
         "TV-Y",
         "65 min",
         "Children & Family Movies"
        ],
        [
         "27",
         "s21",
         "TV Show",
         "Monsters Inside: The 24 Faces of Billy Milligan",
         "Olivier Megaton",
         "United States",
         "9/22/2021",
         "2021",
         "TV-14",
         "1 Season",
         "Crime TV Shows, Docuseries, International TV Shows"
        ],
        [
         "28",
         "s24",
         "Movie",
         "Go! Go! Cory Carson: Chrissy Takes the Wheel",
         "Alex Woo, Stanley Moore",
         "United States",
         "9/21/2021",
         "2021",
         "TV-Y",
         "61 min",
         "Children & Family Movies"
        ],
        [
         "29",
         "s25",
         "Movie",
         "Jeans",
         "S. Shankar",
         "India",
         "9/21/2021",
         "1998",
         "TV-14",
         "166 min",
         "Comedies, International Movies, Romantic Movies"
        ],
        [
         "30",
         "s28",
         "Movie",
         "Grown Ups",
         "Dennis Dugan",
         "United States",
         "9/20/2021",
         "2010",
         "PG-13",
         "103 min",
         "Comedies"
        ],
        [
         "31",
         "s29",
         "Movie",
         "Dark Skies",
         "Scott Stewart",
         "United States",
         "9/19/2021",
         "2013",
         "PG-13",
         "97 min",
         "Horror Movies, Sci-Fi & Fantasy"
        ],
        [
         "32",
         "s30",
         "Movie",
         "Paranoia",
         "Robert Luketic",
         "United States",
         "9/19/2021",
         "2013",
         "PG-13",
         "106 min",
         "Thrillers"
        ],
        [
         "33",
         "s20",
         "TV Show",
         "Jaguar",
         "Not Given",
         "Pakistan",
         "9/22/2021",
         "2021",
         "TV-MA",
         "1 Season",
         "International TV Shows, Spanish-Language TV Shows, TV Action & Adventure"
        ],
        [
         "34",
         "s32",
         "TV Show",
         "Chicago Party Aunt",
         "Not Given",
         "Pakistan",
         "9/17/2021",
         "2021",
         "TV-MA",
         "1 Season",
         "TV Comedies"
        ],
        [
         "35",
         "s34",
         "TV Show",
         "Squid Game",
         "Not Given",
         "Pakistan",
         "9/17/2021",
         "2021",
         "TV-MA",
         "1 Season",
         "International TV Shows, TV Dramas, TV Thrillers"
        ],
        [
         "36",
         "s35",
         "TV Show",
         "Tayo and Little Wizards",
         "Not Given",
         "Pakistan",
         "9/17/2021",
         "2020",
         "TV-Y7",
         "1 Season",
         "Kids' TV"
        ],
        [
         "37",
         "s75",
         "TV Show",
         "The World's Most Amazing Vacation Rentals",
         "Not Given",
         "Pakistan",
         "9/14/2021",
         "2021",
         "TV-PG",
         "2 Seasons",
         "Reality TV"
        ],
        [
         "38",
         "s84",
         "TV Show",
         "Metal Shop Masters",
         "Not Given",
         "Pakistan",
         "9/10/2021",
         "2021",
         "TV-MA",
         "1 Season",
         "Reality TV"
        ],
        [
         "39",
         "s86",
         "TV Show",
         "Pokémon Master Journeys: The Series",
         "Not Given",
         "Pakistan",
         "9/10/2021",
         "2021",
         "TV-Y7",
         "1 Season",
         "Anime Series, Kids' TV"
        ],
        [
         "40",
         "s88",
         "TV Show",
         "Titipo Titipo",
         "Not Given",
         "Pakistan",
         "9/10/2021",
         "2019",
         "TV-Y",
         "2 Seasons",
         "Kids' TV, Korean TV Shows"
        ],
        [
         "41",
         "s90",
         "TV Show",
         "Mighty Raju",
         "Not Given",
         "Pakistan",
         "9/9/2021",
         "2017",
         "TV-Y7",
         "4 Seasons",
         "Kids' TV"
        ],
        [
         "42",
         "s101",
         "TV Show",
         "Tobot Galaxy Detectives",
         "Not Given",
         "Pakistan",
         "9/7/2021",
         "2019",
         "TV-Y7",
         "2 Seasons",
         "Kids' TV"
        ],
        [
         "43",
         "s122",
         "TV Show",
         "Hotel Del Luna",
         "Not Given",
         "Pakistan",
         "9/2/2021",
         "2019",
         "TV-14",
         "1 Season",
         "International TV Shows, Romantic TV Shows, TV Comedies"
        ],
        [
         "44",
         "s133",
         "TV Show",
         "Brave Animated Series",
         "Not Given",
         "Pakistan",
         "9/1/2021",
         "2021",
         "TV-MA",
         "1 Season",
         "International TV Shows, TV Action & Adventure, TV Comedies"
        ],
        [
         "45",
         "s148",
         "TV Show",
         "How to Be a Cowboy",
         "Not Given",
         "Pakistan",
         "9/1/2021",
         "2021",
         "TV-PG",
         "1 Season",
         "Reality TV"
        ],
        [
         "46",
         "s166",
         "TV Show",
         "Oldsters",
         "Not Given",
         "Pakistan",
         "9/1/2021",
         "2019",
         "TV-MA",
         "1 Season",
         "Crime TV Shows, International TV Shows, Spanish-Language TV Shows"
        ],
        [
         "47",
         "s190",
         "TV Show",
         "Bread Barbershop",
         "Not Given",
         "Pakistan",
         "8/28/2021",
         "2020",
         "TV-Y",
         "2 Seasons",
         "Kids' TV, TV Comedies"
        ],
        [
         "48",
         "s182",
         "TV Show",
         "Turning Point: 9/11 and the War on Terror",
         "Not Given",
         "Pakistan",
         "9/1/2021",
         "2021",
         "TV-14",
         "1 Season",
         "Docuseries"
        ],
        [
         "49",
         "s187",
         "TV Show",
         "Hometown Cha-Cha-Cha",
         "Not Given",
         "Pakistan",
         "8/29/2021",
         "2021",
         "TV-14",
         "1 Season",
         "International TV Shows, Romantic TV Shows, TV Comedies"
        ]
       ],
       "shape": {
        "columns": 10,
        "rows": 8790
       }
      },
      "text/html": [
       "<div>\n",
       "<style scoped>\n",
       "    .dataframe tbody tr th:only-of-type {\n",
       "        vertical-align: middle;\n",
       "    }\n",
       "\n",
       "    .dataframe tbody tr th {\n",
       "        vertical-align: top;\n",
       "    }\n",
       "\n",
       "    .dataframe thead th {\n",
       "        text-align: right;\n",
       "    }\n",
       "</style>\n",
       "<table border=\"1\" class=\"dataframe\">\n",
       "  <thead>\n",
       "    <tr style=\"text-align: right;\">\n",
       "      <th></th>\n",
       "      <th>show_id</th>\n",
       "      <th>type</th>\n",
       "      <th>title</th>\n",
       "      <th>director</th>\n",
       "      <th>country</th>\n",
       "      <th>date_added</th>\n",
       "      <th>release_year</th>\n",
       "      <th>rating</th>\n",
       "      <th>duration</th>\n",
       "      <th>listed_in</th>\n",
       "    </tr>\n",
       "  </thead>\n",
       "  <tbody>\n",
       "    <tr>\n",
       "      <th>0</th>\n",
       "      <td>s1</td>\n",
       "      <td>Movie</td>\n",
       "      <td>Dick Johnson Is Dead</td>\n",
       "      <td>Kirsten Johnson</td>\n",
       "      <td>United States</td>\n",
       "      <td>9/25/2021</td>\n",
       "      <td>2020</td>\n",
       "      <td>PG-13</td>\n",
       "      <td>90 min</td>\n",
       "      <td>Documentaries</td>\n",
       "    </tr>\n",
       "    <tr>\n",
       "      <th>1</th>\n",
       "      <td>s3</td>\n",
       "      <td>TV Show</td>\n",
       "      <td>Ganglands</td>\n",
       "      <td>Julien Leclercq</td>\n",
       "      <td>France</td>\n",
       "      <td>9/24/2021</td>\n",
       "      <td>2021</td>\n",
       "      <td>TV-MA</td>\n",
       "      <td>1 Season</td>\n",
       "      <td>Crime TV Shows, International TV Shows, TV Act...</td>\n",
       "    </tr>\n",
       "    <tr>\n",
       "      <th>2</th>\n",
       "      <td>s6</td>\n",
       "      <td>TV Show</td>\n",
       "      <td>Midnight Mass</td>\n",
       "      <td>Mike Flanagan</td>\n",
       "      <td>United States</td>\n",
       "      <td>9/24/2021</td>\n",
       "      <td>2021</td>\n",
       "      <td>TV-MA</td>\n",
       "      <td>1 Season</td>\n",
       "      <td>TV Dramas, TV Horror, TV Mysteries</td>\n",
       "    </tr>\n",
       "    <tr>\n",
       "      <th>3</th>\n",
       "      <td>s14</td>\n",
       "      <td>Movie</td>\n",
       "      <td>Confessions of an Invisible Girl</td>\n",
       "      <td>Bruno Garotti</td>\n",
       "      <td>Brazil</td>\n",
       "      <td>9/22/2021</td>\n",
       "      <td>2021</td>\n",
       "      <td>TV-PG</td>\n",
       "      <td>91 min</td>\n",
       "      <td>Children &amp; Family Movies, Comedies</td>\n",
       "    </tr>\n",
       "    <tr>\n",
       "      <th>4</th>\n",
       "      <td>s8</td>\n",
       "      <td>Movie</td>\n",
       "      <td>Sankofa</td>\n",
       "      <td>Haile Gerima</td>\n",
       "      <td>United States</td>\n",
       "      <td>9/24/2021</td>\n",
       "      <td>1993</td>\n",
       "      <td>TV-MA</td>\n",
       "      <td>125 min</td>\n",
       "      <td>Dramas, Independent Movies, International Movies</td>\n",
       "    </tr>\n",
       "    <tr>\n",
       "      <th>...</th>\n",
       "      <td>...</td>\n",
       "      <td>...</td>\n",
       "      <td>...</td>\n",
       "      <td>...</td>\n",
       "      <td>...</td>\n",
       "      <td>...</td>\n",
       "      <td>...</td>\n",
       "      <td>...</td>\n",
       "      <td>...</td>\n",
       "      <td>...</td>\n",
       "    </tr>\n",
       "    <tr>\n",
       "      <th>8785</th>\n",
       "      <td>s8797</td>\n",
       "      <td>TV Show</td>\n",
       "      <td>Yunus Emre</td>\n",
       "      <td>Not Given</td>\n",
       "      <td>Turkey</td>\n",
       "      <td>1/17/2017</td>\n",
       "      <td>2016</td>\n",
       "      <td>TV-PG</td>\n",
       "      <td>2 Seasons</td>\n",
       "      <td>International TV Shows, TV Dramas</td>\n",
       "    </tr>\n",
       "    <tr>\n",
       "      <th>8786</th>\n",
       "      <td>s8798</td>\n",
       "      <td>TV Show</td>\n",
       "      <td>Zak Storm</td>\n",
       "      <td>Not Given</td>\n",
       "      <td>United States</td>\n",
       "      <td>9/13/2018</td>\n",
       "      <td>2016</td>\n",
       "      <td>TV-Y7</td>\n",
       "      <td>3 Seasons</td>\n",
       "      <td>Kids' TV</td>\n",
       "    </tr>\n",
       "    <tr>\n",
       "      <th>8787</th>\n",
       "      <td>s8801</td>\n",
       "      <td>TV Show</td>\n",
       "      <td>Zindagi Gulzar Hai</td>\n",
       "      <td>Not Given</td>\n",
       "      <td>Pakistan</td>\n",
       "      <td>12/15/2016</td>\n",
       "      <td>2012</td>\n",
       "      <td>TV-PG</td>\n",
       "      <td>1 Season</td>\n",
       "      <td>International TV Shows, Romantic TV Shows, TV ...</td>\n",
       "    </tr>\n",
       "    <tr>\n",
       "      <th>8788</th>\n",
       "      <td>s8784</td>\n",
       "      <td>TV Show</td>\n",
       "      <td>Yoko</td>\n",
       "      <td>Not Given</td>\n",
       "      <td>Pakistan</td>\n",
       "      <td>6/23/2018</td>\n",
       "      <td>2016</td>\n",
       "      <td>TV-Y</td>\n",
       "      <td>1 Season</td>\n",
       "      <td>Kids' TV</td>\n",
       "    </tr>\n",
       "    <tr>\n",
       "      <th>8789</th>\n",
       "      <td>s8786</td>\n",
       "      <td>TV Show</td>\n",
       "      <td>YOM</td>\n",
       "      <td>Not Given</td>\n",
       "      <td>Pakistan</td>\n",
       "      <td>6/7/2018</td>\n",
       "      <td>2016</td>\n",
       "      <td>TV-Y7</td>\n",
       "      <td>1 Season</td>\n",
       "      <td>Kids' TV</td>\n",
       "    </tr>\n",
       "  </tbody>\n",
       "</table>\n",
       "<p>8790 rows × 10 columns</p>\n",
       "</div>"
      ],
      "text/plain": [
       "     show_id     type                             title         director  \\\n",
       "0         s1    Movie              Dick Johnson Is Dead  Kirsten Johnson   \n",
       "1         s3  TV Show                         Ganglands  Julien Leclercq   \n",
       "2         s6  TV Show                     Midnight Mass    Mike Flanagan   \n",
       "3        s14    Movie  Confessions of an Invisible Girl    Bruno Garotti   \n",
       "4         s8    Movie                           Sankofa     Haile Gerima   \n",
       "...      ...      ...                               ...              ...   \n",
       "8785   s8797  TV Show                        Yunus Emre        Not Given   \n",
       "8786   s8798  TV Show                         Zak Storm        Not Given   \n",
       "8787   s8801  TV Show                Zindagi Gulzar Hai        Not Given   \n",
       "8788   s8784  TV Show                              Yoko        Not Given   \n",
       "8789   s8786  TV Show                               YOM        Not Given   \n",
       "\n",
       "            country  date_added  release_year rating   duration  \\\n",
       "0     United States   9/25/2021          2020  PG-13     90 min   \n",
       "1            France   9/24/2021          2021  TV-MA   1 Season   \n",
       "2     United States   9/24/2021          2021  TV-MA   1 Season   \n",
       "3            Brazil   9/22/2021          2021  TV-PG     91 min   \n",
       "4     United States   9/24/2021          1993  TV-MA    125 min   \n",
       "...             ...         ...           ...    ...        ...   \n",
       "8785         Turkey   1/17/2017          2016  TV-PG  2 Seasons   \n",
       "8786  United States   9/13/2018          2016  TV-Y7  3 Seasons   \n",
       "8787       Pakistan  12/15/2016          2012  TV-PG   1 Season   \n",
       "8788       Pakistan   6/23/2018          2016   TV-Y   1 Season   \n",
       "8789       Pakistan    6/7/2018          2016  TV-Y7   1 Season   \n",
       "\n",
       "                                              listed_in  \n",
       "0                                         Documentaries  \n",
       "1     Crime TV Shows, International TV Shows, TV Act...  \n",
       "2                    TV Dramas, TV Horror, TV Mysteries  \n",
       "3                    Children & Family Movies, Comedies  \n",
       "4      Dramas, Independent Movies, International Movies  \n",
       "...                                                 ...  \n",
       "8785                  International TV Shows, TV Dramas  \n",
       "8786                                           Kids' TV  \n",
       "8787  International TV Shows, Romantic TV Shows, TV ...  \n",
       "8788                                           Kids' TV  \n",
       "8789                                           Kids' TV  \n",
       "\n",
       "[8790 rows x 10 columns]"
      ]
     },
     "execution_count": 7,
     "metadata": {},
     "output_type": "execute_result"
    }
   ],
   "source": [
    "data"
   ]
  },
  {
   "cell_type": "code",
   "execution_count": 10,
   "id": "481df70b",
   "metadata": {},
   "outputs": [
    {
     "data": {
      "application/vnd.microsoft.datawrangler.viewer.v0+json": {
       "columns": [
        {
         "name": "rating",
         "rawType": "object",
         "type": "string"
        },
        {
         "name": "count",
         "rawType": "int64",
         "type": "integer"
        }
       ],
       "ref": "13f91c47-7efa-4c59-9e6e-bcff67585dc5",
       "rows": [
        [
         "TV-MA",
         "3205"
        ],
        [
         "TV-14",
         "2157"
        ],
        [
         "TV-PG",
         "861"
        ],
        [
         "R",
         "799"
        ],
        [
         "PG-13",
         "490"
        ],
        [
         "TV-Y7",
         "333"
        ],
        [
         "TV-Y",
         "306"
        ],
        [
         "PG",
         "287"
        ],
        [
         "TV-G",
         "220"
        ],
        [
         "NR",
         "79"
        ],
        [
         "G",
         "41"
        ],
        [
         "TV-Y7-FV",
         "6"
        ],
        [
         "NC-17",
         "3"
        ],
        [
         "UR",
         "3"
        ]
       ],
       "shape": {
        "columns": 1,
        "rows": 14
       }
      },
      "text/plain": [
       "rating\n",
       "TV-MA       3205\n",
       "TV-14       2157\n",
       "TV-PG        861\n",
       "R            799\n",
       "PG-13        490\n",
       "TV-Y7        333\n",
       "TV-Y         306\n",
       "PG           287\n",
       "TV-G         220\n",
       "NR            79\n",
       "G             41\n",
       "TV-Y7-FV       6\n",
       "NC-17          3\n",
       "UR             3\n",
       "Name: count, dtype: int64"
      ]
     },
     "execution_count": 10,
     "metadata": {},
     "output_type": "execute_result"
    }
   ],
   "source": [
    "data['rating'].value_counts()"
   ]
  },
  {
   "cell_type": "code",
   "execution_count": 11,
   "id": "c0944413",
   "metadata": {},
   "outputs": [
    {
     "data": {
      "text/plain": [
       "Index(['show_id', 'type', 'title', 'director', 'country', 'date_added',\n",
       "       'release_year', 'rating', 'duration', 'listed_in'],\n",
       "      dtype='object')"
      ]
     },
     "execution_count": 11,
     "metadata": {},
     "output_type": "execute_result"
    }
   ],
   "source": [
    "data.columns"
   ]
  },
  {
   "cell_type": "code",
   "execution_count": 12,
   "id": "eb88cdcd",
   "metadata": {},
   "outputs": [],
   "source": [
    "new_column = [\n",
    "    'show_id', 'type', 'title', 'director', 'country', \n",
    "    'date_added','release_year', 'duration', 'listed_in'    \n",
    "]\n",
    "\n",
    "bad_column = ['rating']"
   ]
  },
  {
   "cell_type": "markdown",
   "id": "529d5ee8",
   "metadata": {},
   "source": [
    "reasoning :\n",
    "- unnecessary for analysis"
   ]
  },
  {
   "cell_type": "code",
   "execution_count": 13,
   "id": "4c72ee5b",
   "metadata": {},
   "outputs": [],
   "source": [
    "data.drop(columns= bad_column, inplace= True)"
   ]
  },
  {
   "cell_type": "code",
   "execution_count": 14,
   "id": "32cbe32d",
   "metadata": {},
   "outputs": [
    {
     "data": {
      "text/plain": [
       "Index(['show_id', 'type', 'title', 'director', 'country', 'date_added',\n",
       "       'release_year', 'duration', 'listed_in'],\n",
       "      dtype='object')"
      ]
     },
     "execution_count": 14,
     "metadata": {},
     "output_type": "execute_result"
    }
   ],
   "source": [
    "data.columns"
   ]
  },
  {
   "cell_type": "markdown",
   "id": "f9a203e0",
   "metadata": {},
   "source": [
    "<h3> Formating issues, capitalize  </h3>"
   ]
  },
  {
   "cell_type": "code",
   "execution_count": 15,
   "id": "e432e9d8",
   "metadata": {},
   "outputs": [],
   "source": [
    "new_sop= []\n",
    "\n",
    "for pod in data.columns:\n",
    "    new_sop.append(pod.capitalize())"
   ]
  },
  {
   "cell_type": "code",
   "execution_count": 16,
   "id": "2b6ecfc3",
   "metadata": {},
   "outputs": [
    {
     "data": {
      "text/plain": [
       "['Show_id',\n",
       " 'Type',\n",
       " 'Title',\n",
       " 'Director',\n",
       " 'Country',\n",
       " 'Date_added',\n",
       " 'Release_year',\n",
       " 'Duration',\n",
       " 'Listed_in']"
      ]
     },
     "execution_count": 16,
     "metadata": {},
     "output_type": "execute_result"
    }
   ],
   "source": [
    "new_sop"
   ]
  },
  {
   "cell_type": "code",
   "execution_count": 17,
   "id": "ca910d86",
   "metadata": {},
   "outputs": [],
   "source": [
    "data.columns = new_sop"
   ]
  },
  {
   "cell_type": "code",
   "execution_count": 19,
   "id": "74dde035",
   "metadata": {},
   "outputs": [
    {
     "data": {
      "application/vnd.microsoft.datawrangler.viewer.v0+json": {
       "columns": [
        {
         "name": "index",
         "rawType": "int64",
         "type": "integer"
        },
        {
         "name": "Show_id",
         "rawType": "object",
         "type": "string"
        },
        {
         "name": "Type",
         "rawType": "object",
         "type": "string"
        },
        {
         "name": "Title",
         "rawType": "object",
         "type": "string"
        },
        {
         "name": "Director",
         "rawType": "object",
         "type": "string"
        },
        {
         "name": "Country",
         "rawType": "object",
         "type": "string"
        },
        {
         "name": "Date_added",
         "rawType": "object",
         "type": "string"
        },
        {
         "name": "Release_year",
         "rawType": "int64",
         "type": "integer"
        },
        {
         "name": "Duration",
         "rawType": "object",
         "type": "string"
        },
        {
         "name": "Listed_in",
         "rawType": "object",
         "type": "string"
        }
       ],
       "ref": "ff7ad902-4aa4-43df-8f63-d6a8a1ab93d7",
       "rows": [
        [
         "0",
         "s1",
         "Movie",
         "Dick Johnson Is Dead",
         "Kirsten Johnson",
         "United States",
         "9/25/2021",
         "2020",
         "90 min",
         "Documentaries"
        ],
        [
         "1",
         "s3",
         "TV Show",
         "Ganglands",
         "Julien Leclercq",
         "France",
         "9/24/2021",
         "2021",
         "1 Season",
         "Crime TV Shows, International TV Shows, TV Action & Adventure"
        ],
        [
         "2",
         "s6",
         "TV Show",
         "Midnight Mass",
         "Mike Flanagan",
         "United States",
         "9/24/2021",
         "2021",
         "1 Season",
         "TV Dramas, TV Horror, TV Mysteries"
        ],
        [
         "3",
         "s14",
         "Movie",
         "Confessions of an Invisible Girl",
         "Bruno Garotti",
         "Brazil",
         "9/22/2021",
         "2021",
         "91 min",
         "Children & Family Movies, Comedies"
        ],
        [
         "4",
         "s8",
         "Movie",
         "Sankofa",
         "Haile Gerima",
         "United States",
         "9/24/2021",
         "1993",
         "125 min",
         "Dramas, Independent Movies, International Movies"
        ]
       ],
       "shape": {
        "columns": 9,
        "rows": 5
       }
      },
      "text/html": [
       "<div>\n",
       "<style scoped>\n",
       "    .dataframe tbody tr th:only-of-type {\n",
       "        vertical-align: middle;\n",
       "    }\n",
       "\n",
       "    .dataframe tbody tr th {\n",
       "        vertical-align: top;\n",
       "    }\n",
       "\n",
       "    .dataframe thead th {\n",
       "        text-align: right;\n",
       "    }\n",
       "</style>\n",
       "<table border=\"1\" class=\"dataframe\">\n",
       "  <thead>\n",
       "    <tr style=\"text-align: right;\">\n",
       "      <th></th>\n",
       "      <th>Show_id</th>\n",
       "      <th>Type</th>\n",
       "      <th>Title</th>\n",
       "      <th>Director</th>\n",
       "      <th>Country</th>\n",
       "      <th>Date_added</th>\n",
       "      <th>Release_year</th>\n",
       "      <th>Duration</th>\n",
       "      <th>Listed_in</th>\n",
       "    </tr>\n",
       "  </thead>\n",
       "  <tbody>\n",
       "    <tr>\n",
       "      <th>0</th>\n",
       "      <td>s1</td>\n",
       "      <td>Movie</td>\n",
       "      <td>Dick Johnson Is Dead</td>\n",
       "      <td>Kirsten Johnson</td>\n",
       "      <td>United States</td>\n",
       "      <td>9/25/2021</td>\n",
       "      <td>2020</td>\n",
       "      <td>90 min</td>\n",
       "      <td>Documentaries</td>\n",
       "    </tr>\n",
       "    <tr>\n",
       "      <th>1</th>\n",
       "      <td>s3</td>\n",
       "      <td>TV Show</td>\n",
       "      <td>Ganglands</td>\n",
       "      <td>Julien Leclercq</td>\n",
       "      <td>France</td>\n",
       "      <td>9/24/2021</td>\n",
       "      <td>2021</td>\n",
       "      <td>1 Season</td>\n",
       "      <td>Crime TV Shows, International TV Shows, TV Act...</td>\n",
       "    </tr>\n",
       "    <tr>\n",
       "      <th>2</th>\n",
       "      <td>s6</td>\n",
       "      <td>TV Show</td>\n",
       "      <td>Midnight Mass</td>\n",
       "      <td>Mike Flanagan</td>\n",
       "      <td>United States</td>\n",
       "      <td>9/24/2021</td>\n",
       "      <td>2021</td>\n",
       "      <td>1 Season</td>\n",
       "      <td>TV Dramas, TV Horror, TV Mysteries</td>\n",
       "    </tr>\n",
       "    <tr>\n",
       "      <th>3</th>\n",
       "      <td>s14</td>\n",
       "      <td>Movie</td>\n",
       "      <td>Confessions of an Invisible Girl</td>\n",
       "      <td>Bruno Garotti</td>\n",
       "      <td>Brazil</td>\n",
       "      <td>9/22/2021</td>\n",
       "      <td>2021</td>\n",
       "      <td>91 min</td>\n",
       "      <td>Children &amp; Family Movies, Comedies</td>\n",
       "    </tr>\n",
       "    <tr>\n",
       "      <th>4</th>\n",
       "      <td>s8</td>\n",
       "      <td>Movie</td>\n",
       "      <td>Sankofa</td>\n",
       "      <td>Haile Gerima</td>\n",
       "      <td>United States</td>\n",
       "      <td>9/24/2021</td>\n",
       "      <td>1993</td>\n",
       "      <td>125 min</td>\n",
       "      <td>Dramas, Independent Movies, International Movies</td>\n",
       "    </tr>\n",
       "  </tbody>\n",
       "</table>\n",
       "</div>"
      ],
      "text/plain": [
       "  Show_id     Type                             Title         Director  \\\n",
       "0      s1    Movie              Dick Johnson Is Dead  Kirsten Johnson   \n",
       "1      s3  TV Show                         Ganglands  Julien Leclercq   \n",
       "2      s6  TV Show                     Midnight Mass    Mike Flanagan   \n",
       "3     s14    Movie  Confessions of an Invisible Girl    Bruno Garotti   \n",
       "4      s8    Movie                           Sankofa     Haile Gerima   \n",
       "\n",
       "         Country Date_added  Release_year  Duration  \\\n",
       "0  United States  9/25/2021          2020    90 min   \n",
       "1         France  9/24/2021          2021  1 Season   \n",
       "2  United States  9/24/2021          2021  1 Season   \n",
       "3         Brazil  9/22/2021          2021    91 min   \n",
       "4  United States  9/24/2021          1993   125 min   \n",
       "\n",
       "                                           Listed_in  \n",
       "0                                      Documentaries  \n",
       "1  Crime TV Shows, International TV Shows, TV Act...  \n",
       "2                 TV Dramas, TV Horror, TV Mysteries  \n",
       "3                 Children & Family Movies, Comedies  \n",
       "4   Dramas, Independent Movies, International Movies  "
      ]
     },
     "execution_count": 19,
     "metadata": {},
     "output_type": "execute_result"
    }
   ],
   "source": [
    "data.head(5)"
   ]
  },
  {
   "cell_type": "markdown",
   "id": "14553a7b",
   "metadata": {},
   "source": [
    "<h3>deleting duplicates and missing values </h3>"
   ]
  },
  {
   "cell_type": "markdown",
   "id": "f7be865d",
   "metadata": {},
   "source": [
    "no duplicates found nor missing values"
   ]
  },
  {
   "cell_type": "code",
   "execution_count": 20,
   "id": "e2c97c33",
   "metadata": {},
   "outputs": [
    {
     "data": {
      "text/plain": [
       "0"
      ]
     },
     "execution_count": 20,
     "metadata": {},
     "output_type": "execute_result"
    }
   ],
   "source": [
    "data.duplicated().sum()"
   ]
  },
  {
   "cell_type": "code",
   "execution_count": 21,
   "id": "b8734fad",
   "metadata": {},
   "outputs": [
    {
     "data": {
      "application/vnd.microsoft.datawrangler.viewer.v0+json": {
       "columns": [
        {
         "name": "index",
         "rawType": "object",
         "type": "string"
        },
        {
         "name": "0",
         "rawType": "int64",
         "type": "integer"
        }
       ],
       "ref": "07681585-65e9-41da-aa39-436c0cd4ebe9",
       "rows": [
        [
         "Show_id",
         "0"
        ],
        [
         "Type",
         "0"
        ],
        [
         "Title",
         "0"
        ],
        [
         "Director",
         "0"
        ],
        [
         "Country",
         "0"
        ],
        [
         "Date_added",
         "0"
        ],
        [
         "Release_year",
         "0"
        ],
        [
         "Duration",
         "0"
        ],
        [
         "Listed_in",
         "0"
        ]
       ],
       "shape": {
        "columns": 1,
        "rows": 9
       }
      },
      "text/plain": [
       "Show_id         0\n",
       "Type            0\n",
       "Title           0\n",
       "Director        0\n",
       "Country         0\n",
       "Date_added      0\n",
       "Release_year    0\n",
       "Duration        0\n",
       "Listed_in       0\n",
       "dtype: int64"
      ]
     },
     "execution_count": 21,
     "metadata": {},
     "output_type": "execute_result"
    }
   ],
   "source": [
    "data.isna().sum()"
   ]
  },
  {
   "cell_type": "markdown",
   "id": "d09181ab",
   "metadata": {},
   "source": [
    "<h3> formating and data types </h3>"
   ]
  },
  {
   "cell_type": "code",
   "execution_count": 27,
   "id": "454eb649",
   "metadata": {},
   "outputs": [
    {
     "name": "stdout",
     "output_type": "stream",
     "text": [
      "<class 'pandas.core.frame.DataFrame'>\n",
      "RangeIndex: 8790 entries, 0 to 8789\n",
      "Data columns (total 9 columns):\n",
      " #   Column        Non-Null Count  Dtype \n",
      "---  ------        --------------  ----- \n",
      " 0   Show_id       8790 non-null   int32 \n",
      " 1   Type          8790 non-null   object\n",
      " 2   Title         8790 non-null   object\n",
      " 3   Director      8790 non-null   object\n",
      " 4   Country       8790 non-null   object\n",
      " 5   Date_added    8790 non-null   object\n",
      " 6   Release_year  8790 non-null   int64 \n",
      " 7   Duration      8790 non-null   object\n",
      " 8   Listed_in     8790 non-null   object\n",
      "dtypes: int32(1), int64(1), object(7)\n",
      "memory usage: 583.8+ KB\n"
     ]
    }
   ],
   "source": [
    "data.info()"
   ]
  },
  {
   "cell_type": "code",
   "execution_count": 22,
   "id": "c2b894b7",
   "metadata": {},
   "outputs": [
    {
     "data": {
      "text/plain": [
       "array(['s1', 's3', 's6', ..., 's8801', 's8784', 's8786'], dtype=object)"
      ]
     },
     "execution_count": 22,
     "metadata": {},
     "output_type": "execute_result"
    }
   ],
   "source": [
    "data[\"Show_id\"].unique()"
   ]
  },
  {
   "cell_type": "code",
   "execution_count": 23,
   "id": "f38ad791",
   "metadata": {},
   "outputs": [],
   "source": [
    "# spliting s with id\n",
    "\n",
    "data[\"Show_id\"] = data[\"Show_id\"].apply(lambda x: x.split('s')[1])"
   ]
  },
  {
   "cell_type": "code",
   "execution_count": 24,
   "id": "1a8e3b2e",
   "metadata": {},
   "outputs": [],
   "source": [
    "# changeing data type to be int\n",
    "\n",
    "data[\"Show_id\"] = data[\"Show_id\"].astype(int)"
   ]
  },
  {
   "cell_type": "code",
   "execution_count": 25,
   "id": "065a2ad7",
   "metadata": {},
   "outputs": [
    {
     "data": {
      "text/plain": [
       "numpy.int32"
      ]
     },
     "execution_count": 25,
     "metadata": {},
     "output_type": "execute_result"
    }
   ],
   "source": [
    "type(data[\"Show_id\"][0])"
   ]
  },
  {
   "cell_type": "code",
   "execution_count": 28,
   "id": "31ac233a",
   "metadata": {},
   "outputs": [],
   "source": [
    "data[\"Date_added\"] = data[\"Date_added\"].apply(lambda x: x.replace(\"/\", \"-\"))"
   ]
  },
  {
   "cell_type": "code",
   "execution_count": 29,
   "id": "02d1112f",
   "metadata": {},
   "outputs": [
    {
     "data": {
      "application/vnd.microsoft.datawrangler.viewer.v0+json": {
       "columns": [
        {
         "name": "index",
         "rawType": "int64",
         "type": "integer"
        },
        {
         "name": "Show_id",
         "rawType": "int32",
         "type": "integer"
        },
        {
         "name": "Type",
         "rawType": "object",
         "type": "string"
        },
        {
         "name": "Title",
         "rawType": "object",
         "type": "string"
        },
        {
         "name": "Director",
         "rawType": "object",
         "type": "string"
        },
        {
         "name": "Country",
         "rawType": "object",
         "type": "string"
        },
        {
         "name": "Date_added",
         "rawType": "object",
         "type": "string"
        },
        {
         "name": "Release_year",
         "rawType": "int64",
         "type": "integer"
        },
        {
         "name": "Duration",
         "rawType": "object",
         "type": "string"
        },
        {
         "name": "Listed_in",
         "rawType": "object",
         "type": "string"
        }
       ],
       "ref": "872fff05-11c1-4eb9-80c9-4f19f5c42b77",
       "rows": [
        [
         "0",
         "1",
         "Movie",
         "Dick Johnson Is Dead",
         "Kirsten Johnson",
         "United States",
         "9-25-2021",
         "2020",
         "90 min",
         "Documentaries"
        ],
        [
         "1",
         "3",
         "TV Show",
         "Ganglands",
         "Julien Leclercq",
         "France",
         "9-24-2021",
         "2021",
         "1 Season",
         "Crime TV Shows, International TV Shows, TV Action & Adventure"
        ],
        [
         "2",
         "6",
         "TV Show",
         "Midnight Mass",
         "Mike Flanagan",
         "United States",
         "9-24-2021",
         "2021",
         "1 Season",
         "TV Dramas, TV Horror, TV Mysteries"
        ]
       ],
       "shape": {
        "columns": 9,
        "rows": 3
       }
      },
      "text/html": [
       "<div>\n",
       "<style scoped>\n",
       "    .dataframe tbody tr th:only-of-type {\n",
       "        vertical-align: middle;\n",
       "    }\n",
       "\n",
       "    .dataframe tbody tr th {\n",
       "        vertical-align: top;\n",
       "    }\n",
       "\n",
       "    .dataframe thead th {\n",
       "        text-align: right;\n",
       "    }\n",
       "</style>\n",
       "<table border=\"1\" class=\"dataframe\">\n",
       "  <thead>\n",
       "    <tr style=\"text-align: right;\">\n",
       "      <th></th>\n",
       "      <th>Show_id</th>\n",
       "      <th>Type</th>\n",
       "      <th>Title</th>\n",
       "      <th>Director</th>\n",
       "      <th>Country</th>\n",
       "      <th>Date_added</th>\n",
       "      <th>Release_year</th>\n",
       "      <th>Duration</th>\n",
       "      <th>Listed_in</th>\n",
       "    </tr>\n",
       "  </thead>\n",
       "  <tbody>\n",
       "    <tr>\n",
       "      <th>0</th>\n",
       "      <td>1</td>\n",
       "      <td>Movie</td>\n",
       "      <td>Dick Johnson Is Dead</td>\n",
       "      <td>Kirsten Johnson</td>\n",
       "      <td>United States</td>\n",
       "      <td>9-25-2021</td>\n",
       "      <td>2020</td>\n",
       "      <td>90 min</td>\n",
       "      <td>Documentaries</td>\n",
       "    </tr>\n",
       "    <tr>\n",
       "      <th>1</th>\n",
       "      <td>3</td>\n",
       "      <td>TV Show</td>\n",
       "      <td>Ganglands</td>\n",
       "      <td>Julien Leclercq</td>\n",
       "      <td>France</td>\n",
       "      <td>9-24-2021</td>\n",
       "      <td>2021</td>\n",
       "      <td>1 Season</td>\n",
       "      <td>Crime TV Shows, International TV Shows, TV Act...</td>\n",
       "    </tr>\n",
       "    <tr>\n",
       "      <th>2</th>\n",
       "      <td>6</td>\n",
       "      <td>TV Show</td>\n",
       "      <td>Midnight Mass</td>\n",
       "      <td>Mike Flanagan</td>\n",
       "      <td>United States</td>\n",
       "      <td>9-24-2021</td>\n",
       "      <td>2021</td>\n",
       "      <td>1 Season</td>\n",
       "      <td>TV Dramas, TV Horror, TV Mysteries</td>\n",
       "    </tr>\n",
       "  </tbody>\n",
       "</table>\n",
       "</div>"
      ],
      "text/plain": [
       "   Show_id     Type                 Title         Director        Country  \\\n",
       "0        1    Movie  Dick Johnson Is Dead  Kirsten Johnson  United States   \n",
       "1        3  TV Show             Ganglands  Julien Leclercq         France   \n",
       "2        6  TV Show         Midnight Mass    Mike Flanagan  United States   \n",
       "\n",
       "  Date_added  Release_year  Duration  \\\n",
       "0  9-25-2021          2020    90 min   \n",
       "1  9-24-2021          2021  1 Season   \n",
       "2  9-24-2021          2021  1 Season   \n",
       "\n",
       "                                           Listed_in  \n",
       "0                                      Documentaries  \n",
       "1  Crime TV Shows, International TV Shows, TV Act...  \n",
       "2                 TV Dramas, TV Horror, TV Mysteries  "
      ]
     },
     "execution_count": 29,
     "metadata": {},
     "output_type": "execute_result"
    }
   ],
   "source": [
    "data.head(3)"
   ]
  },
  {
   "cell_type": "code",
   "execution_count": 30,
   "id": "b41f903a",
   "metadata": {},
   "outputs": [
    {
     "data": {
      "application/vnd.microsoft.datawrangler.viewer.v0+json": {
       "columns": [
        {
         "name": "index",
         "rawType": "int64",
         "type": "integer"
        },
        {
         "name": "Show_id",
         "rawType": "int32",
         "type": "integer"
        },
        {
         "name": "Type",
         "rawType": "object",
         "type": "string"
        },
        {
         "name": "Title",
         "rawType": "object",
         "type": "string"
        },
        {
         "name": "Director",
         "rawType": "object",
         "type": "string"
        },
        {
         "name": "Country",
         "rawType": "object",
         "type": "string"
        },
        {
         "name": "Date_added",
         "rawType": "object",
         "type": "string"
        },
        {
         "name": "Release_year",
         "rawType": "int64",
         "type": "integer"
        },
        {
         "name": "Duration",
         "rawType": "object",
         "type": "string"
        },
        {
         "name": "Listed_in",
         "rawType": "object",
         "type": "string"
        }
       ],
       "ref": "9beb430b-2b91-41f9-84b6-de9713b7975e",
       "rows": [
        [
         "0",
         "1",
         "Movie",
         "Dick Johnson Is Dead",
         "Kirsten Johnson",
         "United States",
         "9-25-2021",
         "2020",
         "90 min",
         "Documentaries"
        ],
        [
         "2",
         "6",
         "TV Show",
         "Midnight Mass",
         "Mike Flanagan",
         "United States",
         "9-24-2021",
         "2021",
         "1 Season",
         "TV Dramas, TV Horror, TV Mysteries"
        ],
        [
         "4",
         "8",
         "Movie",
         "Sankofa",
         "Haile Gerima",
         "United States",
         "9-24-2021",
         "1993",
         "125 min",
         "Dramas, Independent Movies, International Movies"
        ],
        [
         "5",
         "9",
         "TV Show",
         "The Great British Baking Show",
         "Andy Devonshire",
         "United Kingdom",
         "9-24-2021",
         "2021",
         "9 Seasons",
         "British TV Shows, Reality TV"
        ],
        [
         "6",
         "10",
         "Movie",
         "The Starling",
         "Theodore Melfi",
         "United States",
         "9-24-2021",
         "2021",
         "104 min",
         "Comedies, Dramas"
        ],
        [
         "13",
         "471",
         "Movie",
         "Bridgerton - The Afterparty",
         "Krysia Plonka, Kristian Mercado",
         "United States",
         "7-13-2021",
         "2021",
         "39 min",
         "Movies"
        ],
        [
         "14",
         "730",
         "Movie",
         "Bling Empire - The Afterparty",
         "Krysia Plonka, Kristian Mercado",
         "United States",
         "6-12-2021",
         "2021",
         "36 min",
         "Movies"
        ],
        [
         "15",
         "731",
         "Movie",
         "Cobra Kai - The Afterparty",
         "Krysia Plonka, Kristian Mercado",
         "United States",
         "6-12-2021",
         "2021",
         "34 min",
         "Movies"
        ],
        [
         "16",
         "913",
         "Movie",
         "The Circle - The Afterparty",
         "Krysia Plonka, Kristian Mercado",
         "United States",
         "5-7-2021",
         "2021",
         "35 min",
         "Comedies"
        ],
        [
         "19",
         "3232",
         "Movie",
         "True: Winter Wishes",
         "Mark Thornton, Todd Kauffman",
         "United States",
         "11-26-2019",
         "2019",
         "46 min",
         "Children & Family Movies"
        ],
        [
         "20",
         "4832",
         "TV Show",
         "True: Magical Friends",
         "Mark Thornton, Todd Kauffman",
         "United States",
         "6-15-2018",
         "2018",
         "1 Season",
         "Kids' TV"
        ],
        [
         "21",
         "4833",
         "TV Show",
         "True: Wonderful Wishes",
         "Mark Thornton, Todd Kauffman",
         "United States",
         "6-15-2018",
         "2018",
         "1 Season",
         "Kids' TV"
        ],
        [
         "22",
         "4857",
         "TV Show",
         "Dance & Sing with True",
         "Mark Thornton, Todd Kauffman",
         "United States",
         "5-18-2018",
         "2018",
         "1 Season",
         "Kids' TV"
        ],
        [
         "27",
         "21",
         "TV Show",
         "Monsters Inside: The 24 Faces of Billy Milligan",
         "Olivier Megaton",
         "United States",
         "9-22-2021",
         "2021",
         "1 Season",
         "Crime TV Shows, Docuseries, International TV Shows"
        ],
        [
         "28",
         "24",
         "Movie",
         "Go! Go! Cory Carson: Chrissy Takes the Wheel",
         "Alex Woo, Stanley Moore",
         "United States",
         "9-21-2021",
         "2021",
         "61 min",
         "Children & Family Movies"
        ],
        [
         "30",
         "28",
         "Movie",
         "Grown Ups",
         "Dennis Dugan",
         "United States",
         "9-20-2021",
         "2010",
         "103 min",
         "Comedies"
        ],
        [
         "31",
         "29",
         "Movie",
         "Dark Skies",
         "Scott Stewart",
         "United States",
         "9-19-2021",
         "2013",
         "97 min",
         "Horror Movies, Sci-Fi & Fantasy"
        ],
        [
         "32",
         "30",
         "Movie",
         "Paranoia",
         "Robert Luketic",
         "United States",
         "9-19-2021",
         "2013",
         "106 min",
         "Thrillers"
        ],
        [
         "59",
         "76",
         "Movie",
         "You vs. Wild: Out Cold",
         "Ben Simms",
         "United States",
         "9-14-2021",
         "2021",
         "106 min",
         "Children & Family Movies"
        ],
        [
         "60",
         "42",
         "Movie",
         "Jaws",
         "Steven Spielberg",
         "United States",
         "9-16-2021",
         "1975",
         "124 min",
         "Action & Adventure, Classic Movies, Dramas"
        ],
        [
         "61",
         "43",
         "Movie",
         "Jaws 2",
         "Jeannot Szwarc",
         "United States",
         "9-16-2021",
         "1978",
         "116 min",
         "Dramas, Horror Movies, Thrillers"
        ],
        [
         "62",
         "44",
         "Movie",
         "Jaws 3",
         "Joe Alves",
         "United States",
         "9-16-2021",
         "1983",
         "98 min",
         "Action & Adventure, Horror Movies, Thrillers"
        ],
        [
         "63",
         "45",
         "Movie",
         "Jaws: The Revenge",
         "Joseph Sargent",
         "United States",
         "9-16-2021",
         "1987",
         "91 min",
         "Action & Adventure, Horror Movies, Thrillers"
        ],
        [
         "65",
         "49",
         "Movie",
         "Training Day",
         "Antoine Fuqua",
         "United States",
         "9-16-2021",
         "2001",
         "122 min",
         "Dramas, Thrillers"
        ],
        [
         "73",
         "56",
         "TV Show",
         "Nailed It",
         "Not Given",
         "United States",
         "9-15-2021",
         "2021",
         "6 Seasons",
         "Reality TV"
        ],
        [
         "106",
         "82",
         "Movie",
         "Kate",
         "Cedric Nicolas-Troyan",
         "United States",
         "9-10-2021",
         "2021",
         "106 min",
         "Action & Adventure"
        ],
        [
         "114",
         "95",
         "Movie",
         "Show Dogs",
         "Raja Gosnell",
         "United Kingdom",
         "9-8-2021",
         "2018",
         "90 min",
         "Children & Family Movies, Comedies"
        ],
        [
         "115",
         "1071",
         "Movie",
         "Why Did You Kill Me?",
         "Fredrick Munk",
         "United States",
         "4-14-2021",
         "2021",
         "84 min",
         "Documentaries"
        ],
        [
         "134",
         "113",
         "Movie",
         "Worth",
         "Sara Colangelo",
         "United States",
         "9-3-2021",
         "2021",
         "119 min",
         "Dramas"
        ],
        [
         "135",
         "97",
         "Movie",
         "If I Leave Here Tomorrow: A Film About Lynyrd Skynyrd",
         "Stephen Kijak",
         "United States",
         "9-7-2021",
         "2018",
         "97 min",
         "Documentaries, Music & Musicals"
        ],
        [
         "136",
         "114",
         "Movie",
         "Afterlife of the Party",
         "Stephen Herek",
         "United States",
         "9-2-2021",
         "2021",
         "110 min",
         "Comedies, Romantic Movies"
        ],
        [
         "140",
         "102",
         "Movie",
         "Untold: Breaking Point",
         "Chapman Way, Maclain Way",
         "United States",
         "9-7-2021",
         "2021",
         "80 min",
         "Documentaries, Sports Movies"
        ],
        [
         "144",
         "108",
         "Movie",
         "A Champion Heart",
         "David de Vos",
         "United States",
         "9-4-2021",
         "2018",
         "90 min",
         "Children & Family Movies, Dramas"
        ],
        [
         "169",
         "116",
         "Movie",
         "Bright Star",
         "Jane Campion",
         "United Kingdom",
         "9-2-2021",
         "2009",
         "119 min",
         "Dramas, Romantic Movies"
        ],
        [
         "171",
         "118",
         "Movie",
         "Final Account",
         "Luke Holland",
         "United Kingdom",
         "9-2-2021",
         "2021",
         "94 min",
         "Documentaries"
        ],
        [
         "175",
         "123",
         "Movie",
         "In the Cut",
         "Jane Campion",
         "United Kingdom",
         "9-2-2021",
         "2003",
         "118 min",
         "Thrillers"
        ],
        [
         "180",
         "128",
         "Movie",
         "A Cinderella Story",
         "Mark Rosman",
         "United States",
         "9-1-2021",
         "2004",
         "95 min",
         "Children & Family Movies, Comedies"
        ],
        [
         "182",
         "132",
         "Movie",
         "Blade Runner: The Final Cut",
         "Ridley Scott",
         "United States",
         "9-1-2021",
         "1982",
         "117 min",
         "Action & Adventure, Classic Movies, Cult Movies"
        ],
        [
         "185",
         "153",
         "Movie",
         "Janoskians: Untold and Untrue",
         "Brett Weiner",
         "United States",
         "9-1-2021",
         "2016",
         "88 min",
         "Comedies"
        ],
        [
         "196",
         "135",
         "Movie",
         "Clear and Present Danger",
         "Phillip Noyce",
         "United States",
         "9-1-2021",
         "1994",
         "142 min",
         "Action & Adventure, Dramas"
        ],
        [
         "197",
         "136",
         "Movie",
         "Cliffhanger",
         "Renny Harlin",
         "United States",
         "9-1-2021",
         "1993",
         "113 min",
         "Action & Adventure"
        ],
        [
         "198",
         "137",
         "Movie",
         "Cold Mountain",
         "Anthony Minghella",
         "United States",
         "9-1-2021",
         "2003",
         "154 min",
         "Dramas, Romantic Movies"
        ],
        [
         "200",
         "139",
         "Movie",
         "Dear John",
         "Lasse Hallström",
         "United States",
         "9-1-2021",
         "2010",
         "108 min",
         "Dramas, Romantic Movies"
        ],
        [
         "201",
         "140",
         "Movie",
         "Do the Right Thing",
         "Spike Lee",
         "United States",
         "9-1-2021",
         "1989",
         "120 min",
         "Classic Movies, Comedies, Dramas"
        ],
        [
         "203",
         "142",
         "Movie",
         "Extraction",
         "Steven C. Miller",
         "United States",
         "9-1-2021",
         "2015",
         "82 min",
         "Action & Adventure"
        ],
        [
         "205",
         "144",
         "Movie",
         "Green Lantern",
         "Martin Campbell",
         "United States",
         "9-1-2021",
         "2011",
         "114 min",
         "Action & Adventure, Sci-Fi & Fantasy"
        ],
        [
         "206",
         "145",
         "Movie",
         "House Party",
         "Reginald Hudlin",
         "United States",
         "9-1-2021",
         "1990",
         "104 min",
         "Comedies, Cult Movies"
        ],
        [
         "207",
         "146",
         "Movie",
         "House Party 2",
         "George Jackson, Doug McHenry",
         "United States",
         "9-1-2021",
         "1991",
         "94 min",
         "Comedies, Cult Movies, Music & Musicals"
        ],
        [
         "208",
         "147",
         "Movie",
         "House Party 3",
         "Eric Meza",
         "United States",
         "9-1-2021",
         "1994",
         "94 min",
         "Comedies, Music & Musicals"
        ],
        [
         "210",
         "150",
         "Movie",
         "I Got the Hook Up",
         "Michael Martin",
         "United States",
         "9-1-2021",
         "1998",
         "93 min",
         "Action & Adventure, Comedies"
        ]
       ],
       "shape": {
        "columns": 9,
        "rows": 3899
       }
      },
      "text/html": [
       "<div>\n",
       "<style scoped>\n",
       "    .dataframe tbody tr th:only-of-type {\n",
       "        vertical-align: middle;\n",
       "    }\n",
       "\n",
       "    .dataframe tbody tr th {\n",
       "        vertical-align: top;\n",
       "    }\n",
       "\n",
       "    .dataframe thead th {\n",
       "        text-align: right;\n",
       "    }\n",
       "</style>\n",
       "<table border=\"1\" class=\"dataframe\">\n",
       "  <thead>\n",
       "    <tr style=\"text-align: right;\">\n",
       "      <th></th>\n",
       "      <th>Show_id</th>\n",
       "      <th>Type</th>\n",
       "      <th>Title</th>\n",
       "      <th>Director</th>\n",
       "      <th>Country</th>\n",
       "      <th>Date_added</th>\n",
       "      <th>Release_year</th>\n",
       "      <th>Duration</th>\n",
       "      <th>Listed_in</th>\n",
       "    </tr>\n",
       "  </thead>\n",
       "  <tbody>\n",
       "    <tr>\n",
       "      <th>0</th>\n",
       "      <td>1</td>\n",
       "      <td>Movie</td>\n",
       "      <td>Dick Johnson Is Dead</td>\n",
       "      <td>Kirsten Johnson</td>\n",
       "      <td>United States</td>\n",
       "      <td>9-25-2021</td>\n",
       "      <td>2020</td>\n",
       "      <td>90 min</td>\n",
       "      <td>Documentaries</td>\n",
       "    </tr>\n",
       "    <tr>\n",
       "      <th>2</th>\n",
       "      <td>6</td>\n",
       "      <td>TV Show</td>\n",
       "      <td>Midnight Mass</td>\n",
       "      <td>Mike Flanagan</td>\n",
       "      <td>United States</td>\n",
       "      <td>9-24-2021</td>\n",
       "      <td>2021</td>\n",
       "      <td>1 Season</td>\n",
       "      <td>TV Dramas, TV Horror, TV Mysteries</td>\n",
       "    </tr>\n",
       "    <tr>\n",
       "      <th>4</th>\n",
       "      <td>8</td>\n",
       "      <td>Movie</td>\n",
       "      <td>Sankofa</td>\n",
       "      <td>Haile Gerima</td>\n",
       "      <td>United States</td>\n",
       "      <td>9-24-2021</td>\n",
       "      <td>1993</td>\n",
       "      <td>125 min</td>\n",
       "      <td>Dramas, Independent Movies, International Movies</td>\n",
       "    </tr>\n",
       "    <tr>\n",
       "      <th>5</th>\n",
       "      <td>9</td>\n",
       "      <td>TV Show</td>\n",
       "      <td>The Great British Baking Show</td>\n",
       "      <td>Andy Devonshire</td>\n",
       "      <td>United Kingdom</td>\n",
       "      <td>9-24-2021</td>\n",
       "      <td>2021</td>\n",
       "      <td>9 Seasons</td>\n",
       "      <td>British TV Shows, Reality TV</td>\n",
       "    </tr>\n",
       "    <tr>\n",
       "      <th>6</th>\n",
       "      <td>10</td>\n",
       "      <td>Movie</td>\n",
       "      <td>The Starling</td>\n",
       "      <td>Theodore Melfi</td>\n",
       "      <td>United States</td>\n",
       "      <td>9-24-2021</td>\n",
       "      <td>2021</td>\n",
       "      <td>104 min</td>\n",
       "      <td>Comedies, Dramas</td>\n",
       "    </tr>\n",
       "    <tr>\n",
       "      <th>...</th>\n",
       "      <td>...</td>\n",
       "      <td>...</td>\n",
       "      <td>...</td>\n",
       "      <td>...</td>\n",
       "      <td>...</td>\n",
       "      <td>...</td>\n",
       "      <td>...</td>\n",
       "      <td>...</td>\n",
       "      <td>...</td>\n",
       "    </tr>\n",
       "    <tr>\n",
       "      <th>8777</th>\n",
       "      <td>8748</td>\n",
       "      <td>TV Show</td>\n",
       "      <td>Winsanity</td>\n",
       "      <td>Not Given</td>\n",
       "      <td>United States</td>\n",
       "      <td>12-15-2018</td>\n",
       "      <td>2016</td>\n",
       "      <td>1 Season</td>\n",
       "      <td>Reality TV</td>\n",
       "    </tr>\n",
       "    <tr>\n",
       "      <th>8779</th>\n",
       "      <td>8756</td>\n",
       "      <td>TV Show</td>\n",
       "      <td>Women Behind Bars</td>\n",
       "      <td>Not Given</td>\n",
       "      <td>United States</td>\n",
       "      <td>11-1-2016</td>\n",
       "      <td>2010</td>\n",
       "      <td>3 Seasons</td>\n",
       "      <td>Crime TV Shows, Docuseries</td>\n",
       "    </tr>\n",
       "    <tr>\n",
       "      <th>8780</th>\n",
       "      <td>8759</td>\n",
       "      <td>TV Show</td>\n",
       "      <td>World's Busiest Cities</td>\n",
       "      <td>Not Given</td>\n",
       "      <td>United Kingdom</td>\n",
       "      <td>2-1-2019</td>\n",
       "      <td>2017</td>\n",
       "      <td>1 Season</td>\n",
       "      <td>British TV Shows, Docuseries</td>\n",
       "    </tr>\n",
       "    <tr>\n",
       "      <th>8782</th>\n",
       "      <td>8781</td>\n",
       "      <td>TV Show</td>\n",
       "      <td>Yo-Kai Watch</td>\n",
       "      <td>Not Given</td>\n",
       "      <td>United States</td>\n",
       "      <td>4-1-2016</td>\n",
       "      <td>2015</td>\n",
       "      <td>1 Season</td>\n",
       "      <td>Anime Series, Kids' TV</td>\n",
       "    </tr>\n",
       "    <tr>\n",
       "      <th>8786</th>\n",
       "      <td>8798</td>\n",
       "      <td>TV Show</td>\n",
       "      <td>Zak Storm</td>\n",
       "      <td>Not Given</td>\n",
       "      <td>United States</td>\n",
       "      <td>9-13-2018</td>\n",
       "      <td>2016</td>\n",
       "      <td>3 Seasons</td>\n",
       "      <td>Kids' TV</td>\n",
       "    </tr>\n",
       "  </tbody>\n",
       "</table>\n",
       "<p>3899 rows × 9 columns</p>\n",
       "</div>"
      ],
      "text/plain": [
       "      Show_id     Type                          Title         Director  \\\n",
       "0           1    Movie           Dick Johnson Is Dead  Kirsten Johnson   \n",
       "2           6  TV Show                  Midnight Mass    Mike Flanagan   \n",
       "4           8    Movie                        Sankofa     Haile Gerima   \n",
       "5           9  TV Show  The Great British Baking Show  Andy Devonshire   \n",
       "6          10    Movie                   The Starling   Theodore Melfi   \n",
       "...       ...      ...                            ...              ...   \n",
       "8777     8748  TV Show                      Winsanity        Not Given   \n",
       "8779     8756  TV Show              Women Behind Bars        Not Given   \n",
       "8780     8759  TV Show         World's Busiest Cities        Not Given   \n",
       "8782     8781  TV Show                   Yo-Kai Watch        Not Given   \n",
       "8786     8798  TV Show                      Zak Storm        Not Given   \n",
       "\n",
       "             Country  Date_added  Release_year   Duration  \\\n",
       "0      United States   9-25-2021          2020     90 min   \n",
       "2      United States   9-24-2021          2021   1 Season   \n",
       "4      United States   9-24-2021          1993    125 min   \n",
       "5     United Kingdom   9-24-2021          2021  9 Seasons   \n",
       "6      United States   9-24-2021          2021    104 min   \n",
       "...              ...         ...           ...        ...   \n",
       "8777   United States  12-15-2018          2016   1 Season   \n",
       "8779   United States   11-1-2016          2010  3 Seasons   \n",
       "8780  United Kingdom    2-1-2019          2017   1 Season   \n",
       "8782   United States    4-1-2016          2015   1 Season   \n",
       "8786   United States   9-13-2018          2016  3 Seasons   \n",
       "\n",
       "                                             Listed_in  \n",
       "0                                        Documentaries  \n",
       "2                   TV Dramas, TV Horror, TV Mysteries  \n",
       "4     Dramas, Independent Movies, International Movies  \n",
       "5                         British TV Shows, Reality TV  \n",
       "6                                     Comedies, Dramas  \n",
       "...                                                ...  \n",
       "8777                                        Reality TV  \n",
       "8779                        Crime TV Shows, Docuseries  \n",
       "8780                      British TV Shows, Docuseries  \n",
       "8782                            Anime Series, Kids' TV  \n",
       "8786                                          Kids' TV  \n",
       "\n",
       "[3899 rows x 9 columns]"
      ]
     },
     "execution_count": 30,
     "metadata": {},
     "output_type": "execute_result"
    }
   ],
   "source": [
    "data[data[\"Country\"].str.contains(\"United\", case= False)]"
   ]
  },
  {
   "cell_type": "markdown",
   "id": "b13f62b4",
   "metadata": {},
   "source": [
    "<h3> saving cleaned data </h3>"
   ]
  },
  {
   "cell_type": "code",
   "execution_count": 32,
   "id": "c49adece",
   "metadata": {},
   "outputs": [
    {
     "name": "stdout",
     "output_type": "stream",
     "text": [
      "file is saved as : Netflix_Cleared_data.CSV\n"
     ]
    }
   ],
   "source": [
    "clean_set = 'Netflix_Cleared_data.CSV'\n",
    "\n",
    "data.to_csv(rf\"C:\\Users\\ASUS\\Documents\\Skill Learning\\Data Analyst Path\\Python\\Learning Panda\\Data Science with Onur\\Cleaning Project\\{clean_set}\", index= False)\n",
    "\n",
    "print(f'file is saved as : {clean_set}')"
   ]
  }
 ],
 "metadata": {
  "kernelspec": {
   "display_name": "base",
   "language": "python",
   "name": "python3"
  },
  "language_info": {
   "codemirror_mode": {
    "name": "ipython",
    "version": 3
   },
   "file_extension": ".py",
   "mimetype": "text/x-python",
   "name": "python",
   "nbconvert_exporter": "python",
   "pygments_lexer": "ipython3",
   "version": "3.12.7"
  }
 },
 "nbformat": 4,
 "nbformat_minor": 5
}
